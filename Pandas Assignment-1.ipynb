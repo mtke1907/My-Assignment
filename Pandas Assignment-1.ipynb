{
 "cells": [
  {
   "cell_type": "code",
   "execution_count": 1,
   "id": "2711b16e",
   "metadata": {},
   "outputs": [],
   "source": [
    "import pandas as pd"
   ]
  },
  {
   "cell_type": "code",
   "execution_count": 3,
   "id": "990a58d5",
   "metadata": {},
   "outputs": [],
   "source": [
    "hotels = pd.read_csv(\"hotel_booking_data.csv\")"
   ]
  },
  {
   "cell_type": "code",
   "execution_count": 4,
   "id": "4123b7d3",
   "metadata": {},
   "outputs": [
    {
     "data": {
      "text/html": [
       "<div>\n",
       "<style scoped>\n",
       "    .dataframe tbody tr th:only-of-type {\n",
       "        vertical-align: middle;\n",
       "    }\n",
       "\n",
       "    .dataframe tbody tr th {\n",
       "        vertical-align: top;\n",
       "    }\n",
       "\n",
       "    .dataframe thead th {\n",
       "        text-align: right;\n",
       "    }\n",
       "</style>\n",
       "<table border=\"1\" class=\"dataframe\">\n",
       "  <thead>\n",
       "    <tr style=\"text-align: right;\">\n",
       "      <th></th>\n",
       "      <th>hotel</th>\n",
       "      <th>is_canceled</th>\n",
       "      <th>lead_time</th>\n",
       "      <th>arrival_date_year</th>\n",
       "      <th>arrival_date_month</th>\n",
       "      <th>arrival_date_week_number</th>\n",
       "      <th>arrival_date_day_of_month</th>\n",
       "      <th>stays_in_weekend_nights</th>\n",
       "      <th>stays_in_week_nights</th>\n",
       "      <th>adults</th>\n",
       "      <th>...</th>\n",
       "      <th>customer_type</th>\n",
       "      <th>adr</th>\n",
       "      <th>required_car_parking_spaces</th>\n",
       "      <th>total_of_special_requests</th>\n",
       "      <th>reservation_status</th>\n",
       "      <th>reservation_status_date</th>\n",
       "      <th>name</th>\n",
       "      <th>email</th>\n",
       "      <th>phone-number</th>\n",
       "      <th>credit_card</th>\n",
       "    </tr>\n",
       "  </thead>\n",
       "  <tbody>\n",
       "    <tr>\n",
       "      <th>0</th>\n",
       "      <td>Resort Hotel</td>\n",
       "      <td>0</td>\n",
       "      <td>342</td>\n",
       "      <td>2015</td>\n",
       "      <td>July</td>\n",
       "      <td>27</td>\n",
       "      <td>1</td>\n",
       "      <td>0</td>\n",
       "      <td>0</td>\n",
       "      <td>2</td>\n",
       "      <td>...</td>\n",
       "      <td>Transient</td>\n",
       "      <td>0.0</td>\n",
       "      <td>0</td>\n",
       "      <td>0</td>\n",
       "      <td>Check-Out</td>\n",
       "      <td>2015-07-01</td>\n",
       "      <td>Ernest Barnes</td>\n",
       "      <td>Ernest.Barnes31@outlook.com</td>\n",
       "      <td>669-792-1661</td>\n",
       "      <td>************4322</td>\n",
       "    </tr>\n",
       "    <tr>\n",
       "      <th>1</th>\n",
       "      <td>Resort Hotel</td>\n",
       "      <td>0</td>\n",
       "      <td>737</td>\n",
       "      <td>2015</td>\n",
       "      <td>July</td>\n",
       "      <td>27</td>\n",
       "      <td>1</td>\n",
       "      <td>0</td>\n",
       "      <td>0</td>\n",
       "      <td>2</td>\n",
       "      <td>...</td>\n",
       "      <td>Transient</td>\n",
       "      <td>0.0</td>\n",
       "      <td>0</td>\n",
       "      <td>0</td>\n",
       "      <td>Check-Out</td>\n",
       "      <td>2015-07-01</td>\n",
       "      <td>Andrea Baker</td>\n",
       "      <td>Andrea_Baker94@aol.com</td>\n",
       "      <td>858-637-6955</td>\n",
       "      <td>************9157</td>\n",
       "    </tr>\n",
       "    <tr>\n",
       "      <th>2</th>\n",
       "      <td>Resort Hotel</td>\n",
       "      <td>0</td>\n",
       "      <td>7</td>\n",
       "      <td>2015</td>\n",
       "      <td>July</td>\n",
       "      <td>27</td>\n",
       "      <td>1</td>\n",
       "      <td>0</td>\n",
       "      <td>1</td>\n",
       "      <td>1</td>\n",
       "      <td>...</td>\n",
       "      <td>Transient</td>\n",
       "      <td>75.0</td>\n",
       "      <td>0</td>\n",
       "      <td>0</td>\n",
       "      <td>Check-Out</td>\n",
       "      <td>2015-07-02</td>\n",
       "      <td>Rebecca Parker</td>\n",
       "      <td>Rebecca_Parker@comcast.net</td>\n",
       "      <td>652-885-2745</td>\n",
       "      <td>************3734</td>\n",
       "    </tr>\n",
       "    <tr>\n",
       "      <th>3</th>\n",
       "      <td>Resort Hotel</td>\n",
       "      <td>0</td>\n",
       "      <td>13</td>\n",
       "      <td>2015</td>\n",
       "      <td>July</td>\n",
       "      <td>27</td>\n",
       "      <td>1</td>\n",
       "      <td>0</td>\n",
       "      <td>1</td>\n",
       "      <td>1</td>\n",
       "      <td>...</td>\n",
       "      <td>Transient</td>\n",
       "      <td>75.0</td>\n",
       "      <td>0</td>\n",
       "      <td>0</td>\n",
       "      <td>Check-Out</td>\n",
       "      <td>2015-07-02</td>\n",
       "      <td>Laura Murray</td>\n",
       "      <td>Laura_M@gmail.com</td>\n",
       "      <td>364-656-8427</td>\n",
       "      <td>************5677</td>\n",
       "    </tr>\n",
       "    <tr>\n",
       "      <th>4</th>\n",
       "      <td>Resort Hotel</td>\n",
       "      <td>0</td>\n",
       "      <td>14</td>\n",
       "      <td>2015</td>\n",
       "      <td>July</td>\n",
       "      <td>27</td>\n",
       "      <td>1</td>\n",
       "      <td>0</td>\n",
       "      <td>2</td>\n",
       "      <td>2</td>\n",
       "      <td>...</td>\n",
       "      <td>Transient</td>\n",
       "      <td>98.0</td>\n",
       "      <td>0</td>\n",
       "      <td>1</td>\n",
       "      <td>Check-Out</td>\n",
       "      <td>2015-07-03</td>\n",
       "      <td>Linda Hines</td>\n",
       "      <td>LHines@verizon.com</td>\n",
       "      <td>713-226-5883</td>\n",
       "      <td>************5498</td>\n",
       "    </tr>\n",
       "  </tbody>\n",
       "</table>\n",
       "<p>5 rows × 36 columns</p>\n",
       "</div>"
      ],
      "text/plain": [
       "          hotel  is_canceled  lead_time  arrival_date_year arrival_date_month  \\\n",
       "0  Resort Hotel            0        342               2015               July   \n",
       "1  Resort Hotel            0        737               2015               July   \n",
       "2  Resort Hotel            0          7               2015               July   \n",
       "3  Resort Hotel            0         13               2015               July   \n",
       "4  Resort Hotel            0         14               2015               July   \n",
       "\n",
       "   arrival_date_week_number  arrival_date_day_of_month  \\\n",
       "0                        27                          1   \n",
       "1                        27                          1   \n",
       "2                        27                          1   \n",
       "3                        27                          1   \n",
       "4                        27                          1   \n",
       "\n",
       "   stays_in_weekend_nights  stays_in_week_nights  adults  ...  customer_type  \\\n",
       "0                        0                     0       2  ...      Transient   \n",
       "1                        0                     0       2  ...      Transient   \n",
       "2                        0                     1       1  ...      Transient   \n",
       "3                        0                     1       1  ...      Transient   \n",
       "4                        0                     2       2  ...      Transient   \n",
       "\n",
       "    adr required_car_parking_spaces total_of_special_requests  \\\n",
       "0   0.0                           0                         0   \n",
       "1   0.0                           0                         0   \n",
       "2  75.0                           0                         0   \n",
       "3  75.0                           0                         0   \n",
       "4  98.0                           0                         1   \n",
       "\n",
       "  reservation_status reservation_status_date            name  \\\n",
       "0          Check-Out              2015-07-01   Ernest Barnes   \n",
       "1          Check-Out              2015-07-01    Andrea Baker   \n",
       "2          Check-Out              2015-07-02  Rebecca Parker   \n",
       "3          Check-Out              2015-07-02    Laura Murray   \n",
       "4          Check-Out              2015-07-03     Linda Hines   \n",
       "\n",
       "                         email  phone-number       credit_card  \n",
       "0  Ernest.Barnes31@outlook.com  669-792-1661  ************4322  \n",
       "1       Andrea_Baker94@aol.com  858-637-6955  ************9157  \n",
       "2   Rebecca_Parker@comcast.net  652-885-2745  ************3734  \n",
       "3            Laura_M@gmail.com  364-656-8427  ************5677  \n",
       "4           LHines@verizon.com  713-226-5883  ************5498  \n",
       "\n",
       "[5 rows x 36 columns]"
      ]
     },
     "execution_count": 4,
     "metadata": {},
     "output_type": "execute_result"
    }
   ],
   "source": [
    "hotels.head()"
   ]
  },
  {
   "cell_type": "code",
   "execution_count": 5,
   "id": "2214fac4",
   "metadata": {},
   "outputs": [
    {
     "name": "stdout",
     "output_type": "stream",
     "text": [
      "<class 'pandas.core.frame.DataFrame'>\n",
      "RangeIndex: 119390 entries, 0 to 119389\n",
      "Data columns (total 36 columns):\n",
      " #   Column                          Non-Null Count   Dtype  \n",
      "---  ------                          --------------   -----  \n",
      " 0   hotel                           119390 non-null  object \n",
      " 1   is_canceled                     119390 non-null  int64  \n",
      " 2   lead_time                       119390 non-null  int64  \n",
      " 3   arrival_date_year               119390 non-null  int64  \n",
      " 4   arrival_date_month              119390 non-null  object \n",
      " 5   arrival_date_week_number        119390 non-null  int64  \n",
      " 6   arrival_date_day_of_month       119390 non-null  int64  \n",
      " 7   stays_in_weekend_nights         119390 non-null  int64  \n",
      " 8   stays_in_week_nights            119390 non-null  int64  \n",
      " 9   adults                          119390 non-null  int64  \n",
      " 10  children                        119386 non-null  float64\n",
      " 11  babies                          119390 non-null  int64  \n",
      " 12  meal                            119390 non-null  object \n",
      " 13  country                         118902 non-null  object \n",
      " 14  market_segment                  119390 non-null  object \n",
      " 15  distribution_channel            119390 non-null  object \n",
      " 16  is_repeated_guest               119390 non-null  int64  \n",
      " 17  previous_cancellations          119390 non-null  int64  \n",
      " 18  previous_bookings_not_canceled  119390 non-null  int64  \n",
      " 19  reserved_room_type              119390 non-null  object \n",
      " 20  assigned_room_type              119390 non-null  object \n",
      " 21  booking_changes                 119390 non-null  int64  \n",
      " 22  deposit_type                    119390 non-null  object \n",
      " 23  agent                           103050 non-null  float64\n",
      " 24  company                         6797 non-null    float64\n",
      " 25  days_in_waiting_list            119390 non-null  int64  \n",
      " 26  customer_type                   119390 non-null  object \n",
      " 27  adr                             119390 non-null  float64\n",
      " 28  required_car_parking_spaces     119390 non-null  int64  \n",
      " 29  total_of_special_requests       119390 non-null  int64  \n",
      " 30  reservation_status              119390 non-null  object \n",
      " 31  reservation_status_date         119390 non-null  object \n",
      " 32  name                            119390 non-null  object \n",
      " 33  email                           119390 non-null  object \n",
      " 34  phone-number                    119390 non-null  object \n",
      " 35  credit_card                     119390 non-null  object \n",
      "dtypes: float64(4), int64(16), object(16)\n",
      "memory usage: 32.8+ MB\n"
     ]
    }
   ],
   "source": [
    "hotels.info()"
   ]
  },
  {
   "cell_type": "code",
   "execution_count": 6,
   "id": "980ec336",
   "metadata": {},
   "outputs": [
    {
     "data": {
      "text/plain": [
       "119390"
      ]
     },
     "execution_count": 6,
     "metadata": {},
     "output_type": "execute_result"
    }
   ],
   "source": [
    "len(hotels)"
   ]
  },
  {
   "cell_type": "code",
   "execution_count": 7,
   "id": "361a4a08",
   "metadata": {},
   "outputs": [
    {
     "data": {
      "text/plain": [
       "hotel                                  0\n",
       "is_canceled                            0\n",
       "lead_time                              0\n",
       "arrival_date_year                      0\n",
       "arrival_date_month                     0\n",
       "arrival_date_week_number               0\n",
       "arrival_date_day_of_month              0\n",
       "stays_in_weekend_nights                0\n",
       "stays_in_week_nights                   0\n",
       "adults                                 0\n",
       "children                               4\n",
       "babies                                 0\n",
       "meal                                   0\n",
       "country                              488\n",
       "market_segment                         0\n",
       "distribution_channel                   0\n",
       "is_repeated_guest                      0\n",
       "previous_cancellations                 0\n",
       "previous_bookings_not_canceled         0\n",
       "reserved_room_type                     0\n",
       "assigned_room_type                     0\n",
       "booking_changes                        0\n",
       "deposit_type                           0\n",
       "agent                              16340\n",
       "company                           112593\n",
       "days_in_waiting_list                   0\n",
       "customer_type                          0\n",
       "adr                                    0\n",
       "required_car_parking_spaces            0\n",
       "total_of_special_requests              0\n",
       "reservation_status                     0\n",
       "reservation_status_date                0\n",
       "name                                   0\n",
       "email                                  0\n",
       "phone-number                           0\n",
       "credit_card                            0\n",
       "dtype: int64"
      ]
     },
     "execution_count": 7,
     "metadata": {},
     "output_type": "execute_result"
    }
   ],
   "source": [
    "hotels.isnull().sum()"
   ]
  },
  {
   "cell_type": "code",
   "execution_count": 8,
   "id": "5e62a7a7",
   "metadata": {},
   "outputs": [
    {
     "name": "stdout",
     "output_type": "stream",
     "text": [
      "Yes, missing data, company column missing: 112593 rows.\n"
     ]
    }
   ],
   "source": [
    "print(f\"Yes, missing data, company column missing: {hotels['company'].isna().sum()} rows.\")"
   ]
  },
  {
   "cell_type": "code",
   "execution_count": 9,
   "id": "bf89d4ac",
   "metadata": {},
   "outputs": [],
   "source": [
    "hotels = hotels.drop('company',axis=1)"
   ]
  },
  {
   "cell_type": "code",
   "execution_count": 10,
   "id": "1523d8d2",
   "metadata": {},
   "outputs": [
    {
     "data": {
      "text/plain": [
       "PRT    48590\n",
       "GBR    12129\n",
       "FRA    10415\n",
       "ESP     8568\n",
       "DEU     7287\n",
       "Name: country, dtype: int64"
      ]
     },
     "execution_count": 10,
     "metadata": {},
     "output_type": "execute_result"
    }
   ],
   "source": [
    "hotels['country'].value_counts()[:5]"
   ]
  },
  {
   "cell_type": "code",
   "execution_count": 11,
   "id": "ae908922",
   "metadata": {},
   "outputs": [
    {
     "data": {
      "text/plain": [
       "adr            5400.0\n",
       "name    Daniel Walter\n",
       "Name: 48515, dtype: object"
      ]
     },
     "execution_count": 11,
     "metadata": {},
     "output_type": "execute_result"
    }
   ],
   "source": [
    "hotels.sort_values('adr',ascending=False)[['adr','name']].iloc[0]"
   ]
  },
  {
   "cell_type": "code",
   "execution_count": 12,
   "id": "2fd6c59b",
   "metadata": {},
   "outputs": [
    {
     "data": {
      "text/plain": [
       "101.83"
      ]
     },
     "execution_count": 12,
     "metadata": {},
     "output_type": "execute_result"
    }
   ],
   "source": [
    "round(hotels['adr'].mean(),2)"
   ]
  },
  {
   "cell_type": "code",
   "execution_count": 13,
   "id": "080310a7",
   "metadata": {},
   "outputs": [
    {
     "data": {
      "text/plain": [
       "3.43"
      ]
     },
     "execution_count": 13,
     "metadata": {},
     "output_type": "execute_result"
    }
   ],
   "source": [
    "hotels['total_stay_days'] = hotels['stays_in_week_nights'] + hotels['stays_in_weekend_nights']\n",
    "\n",
    "round(hotels['total_stay_days'].mean(),2)"
   ]
  },
  {
   "cell_type": "code",
   "execution_count": 14,
   "id": "31edcd5a",
   "metadata": {},
   "outputs": [
    {
     "data": {
      "text/plain": [
       "357.85"
      ]
     },
     "execution_count": 14,
     "metadata": {},
     "output_type": "execute_result"
    }
   ],
   "source": [
    "hotels['total_paid'] = hotels['adr'] * hotels['total_stay_days']\n",
    "round(hotels['total_paid'].mean(),2)"
   ]
  },
  {
   "cell_type": "code",
   "execution_count": 15,
   "id": "057e0ff3",
   "metadata": {},
   "outputs": [
    {
     "data": {
      "text/html": [
       "<div>\n",
       "<style scoped>\n",
       "    .dataframe tbody tr th:only-of-type {\n",
       "        vertical-align: middle;\n",
       "    }\n",
       "\n",
       "    .dataframe tbody tr th {\n",
       "        vertical-align: top;\n",
       "    }\n",
       "\n",
       "    .dataframe thead th {\n",
       "        text-align: right;\n",
       "    }\n",
       "</style>\n",
       "<table border=\"1\" class=\"dataframe\">\n",
       "  <thead>\n",
       "    <tr style=\"text-align: right;\">\n",
       "      <th></th>\n",
       "      <th>name</th>\n",
       "      <th>email</th>\n",
       "    </tr>\n",
       "  </thead>\n",
       "  <tbody>\n",
       "    <tr>\n",
       "      <th>7860</th>\n",
       "      <td>Amanda Harper</td>\n",
       "      <td>Amanda.H66@yahoo.com</td>\n",
       "    </tr>\n",
       "    <tr>\n",
       "      <th>11125</th>\n",
       "      <td>Laura Sanders</td>\n",
       "      <td>Sanders_Laura@hotmail.com</td>\n",
       "    </tr>\n",
       "    <tr>\n",
       "      <th>14596</th>\n",
       "      <td>Tommy Ortiz</td>\n",
       "      <td>Tommy_O@hotmail.com</td>\n",
       "    </tr>\n",
       "    <tr>\n",
       "      <th>14921</th>\n",
       "      <td>Gilbert Miller</td>\n",
       "      <td>Miller.Gilbert@aol.com</td>\n",
       "    </tr>\n",
       "    <tr>\n",
       "      <th>14922</th>\n",
       "      <td>Timothy Torres</td>\n",
       "      <td>TTorres@protonmail.com</td>\n",
       "    </tr>\n",
       "    <tr>\n",
       "      <th>24630</th>\n",
       "      <td>Jennifer Weaver</td>\n",
       "      <td>Jennifer_W@aol.com</td>\n",
       "    </tr>\n",
       "    <tr>\n",
       "      <th>27288</th>\n",
       "      <td>Crystal Horton</td>\n",
       "      <td>Crystal.H@mail.com</td>\n",
       "    </tr>\n",
       "    <tr>\n",
       "      <th>27477</th>\n",
       "      <td>Brittney Burke</td>\n",
       "      <td>Burke_Brittney16@att.com</td>\n",
       "    </tr>\n",
       "    <tr>\n",
       "      <th>29906</th>\n",
       "      <td>Cynthia Cabrera</td>\n",
       "      <td>Cabrera.Cynthia@xfinity.com</td>\n",
       "    </tr>\n",
       "    <tr>\n",
       "      <th>29949</th>\n",
       "      <td>Sarah Floyd</td>\n",
       "      <td>Sarah_F@gmail.com</td>\n",
       "    </tr>\n",
       "    <tr>\n",
       "      <th>32267</th>\n",
       "      <td>Michelle Villa</td>\n",
       "      <td>Michelle.Villa@aol.com</td>\n",
       "    </tr>\n",
       "    <tr>\n",
       "      <th>39027</th>\n",
       "      <td>Nichole Hebert</td>\n",
       "      <td>Hebert.Nichole@gmail.com</td>\n",
       "    </tr>\n",
       "    <tr>\n",
       "      <th>39129</th>\n",
       "      <td>Lindsey Mckenzie</td>\n",
       "      <td>Lindsey.Mckenzie@att.com</td>\n",
       "    </tr>\n",
       "    <tr>\n",
       "      <th>39525</th>\n",
       "      <td>Ashley Edwards</td>\n",
       "      <td>Edwards.Ashley@yahoo.com</td>\n",
       "    </tr>\n",
       "    <tr>\n",
       "      <th>70114</th>\n",
       "      <td>Christopher Torres</td>\n",
       "      <td>Torres.Christopher@gmail.com</td>\n",
       "    </tr>\n",
       "    <tr>\n",
       "      <th>78819</th>\n",
       "      <td>Mrs. Tara Sullivan DVM</td>\n",
       "      <td>Mrs..DVM@xfinity.com</td>\n",
       "    </tr>\n",
       "    <tr>\n",
       "      <th>78820</th>\n",
       "      <td>Michaela Brown</td>\n",
       "      <td>MichaelaBrown@att.com</td>\n",
       "    </tr>\n",
       "    <tr>\n",
       "      <th>78822</th>\n",
       "      <td>Kurt Maldonado MD</td>\n",
       "      <td>KMD15@xfinity.com</td>\n",
       "    </tr>\n",
       "    <tr>\n",
       "      <th>97072</th>\n",
       "      <td>Jason Richardson</td>\n",
       "      <td>Jason.R@zoho.com</td>\n",
       "    </tr>\n",
       "    <tr>\n",
       "      <th>97099</th>\n",
       "      <td>Terri Hurley</td>\n",
       "      <td>THurley@xfinity.com</td>\n",
       "    </tr>\n",
       "    <tr>\n",
       "      <th>97261</th>\n",
       "      <td>Mrs. Caitlin Webb</td>\n",
       "      <td>Mrs._W@comcast.net</td>\n",
       "    </tr>\n",
       "    <tr>\n",
       "      <th>98410</th>\n",
       "      <td>Holly Arroyo</td>\n",
       "      <td>Arroyo_Holly@mail.com</td>\n",
       "    </tr>\n",
       "    <tr>\n",
       "      <th>98674</th>\n",
       "      <td>Denise Campbell</td>\n",
       "      <td>Denise_C@gmail.com</td>\n",
       "    </tr>\n",
       "    <tr>\n",
       "      <th>99887</th>\n",
       "      <td>Michael Smith</td>\n",
       "      <td>Michael.S42@aol.com</td>\n",
       "    </tr>\n",
       "    <tr>\n",
       "      <th>99888</th>\n",
       "      <td>Dr. Trevor Sellers</td>\n",
       "      <td>Dr._S@aol.com</td>\n",
       "    </tr>\n",
       "    <tr>\n",
       "      <th>101569</th>\n",
       "      <td>Kayla Murphy</td>\n",
       "      <td>Kayla.Murphy@yahoo.com</td>\n",
       "    </tr>\n",
       "    <tr>\n",
       "      <th>102061</th>\n",
       "      <td>Taylor Martinez</td>\n",
       "      <td>Taylor.Martinez@hotmail.com</td>\n",
       "    </tr>\n",
       "    <tr>\n",
       "      <th>109511</th>\n",
       "      <td>Charles Wilson</td>\n",
       "      <td>Charles_Wilson@yahoo.com</td>\n",
       "    </tr>\n",
       "    <tr>\n",
       "      <th>109590</th>\n",
       "      <td>Tyler Allison</td>\n",
       "      <td>Tyler.A@protonmail.com</td>\n",
       "    </tr>\n",
       "    <tr>\n",
       "      <th>110082</th>\n",
       "      <td>Matthew Bailey</td>\n",
       "      <td>Matthew_Bailey@aol.com</td>\n",
       "    </tr>\n",
       "    <tr>\n",
       "      <th>110083</th>\n",
       "      <td>Charlotte Acevedo</td>\n",
       "      <td>Charlotte_A@verizon.com</td>\n",
       "    </tr>\n",
       "    <tr>\n",
       "      <th>111909</th>\n",
       "      <td>Darrell Brennan</td>\n",
       "      <td>Brennan_Darrell51@hotmail.com</td>\n",
       "    </tr>\n",
       "    <tr>\n",
       "      <th>111911</th>\n",
       "      <td>Melinda Jensen</td>\n",
       "      <td>MelindaJensen@zoho.com</td>\n",
       "    </tr>\n",
       "    <tr>\n",
       "      <th>113915</th>\n",
       "      <td>Terry Arnold</td>\n",
       "      <td>Arnold.Terry@zoho.com</td>\n",
       "    </tr>\n",
       "    <tr>\n",
       "      <th>114770</th>\n",
       "      <td>Mary Nguyen</td>\n",
       "      <td>Nguyen.Mary@protonmail.com</td>\n",
       "    </tr>\n",
       "    <tr>\n",
       "      <th>114909</th>\n",
       "      <td>Lindsay Cuevas</td>\n",
       "      <td>Lindsay.Cuevas40@mail.com</td>\n",
       "    </tr>\n",
       "    <tr>\n",
       "      <th>116455</th>\n",
       "      <td>Cynthia Hernandez</td>\n",
       "      <td>CynthiaHernandez@xfinity.com</td>\n",
       "    </tr>\n",
       "    <tr>\n",
       "      <th>116457</th>\n",
       "      <td>Angela Hawkins</td>\n",
       "      <td>Angela_H@gmail.com</td>\n",
       "    </tr>\n",
       "    <tr>\n",
       "      <th>118817</th>\n",
       "      <td>Sue Lawson</td>\n",
       "      <td>Sue.L52@comcast.net</td>\n",
       "    </tr>\n",
       "    <tr>\n",
       "      <th>119161</th>\n",
       "      <td>Alyssa Richards</td>\n",
       "      <td>Alyssa_Richards@aol.com</td>\n",
       "    </tr>\n",
       "  </tbody>\n",
       "</table>\n",
       "</div>"
      ],
      "text/plain": [
       "                          name                          email\n",
       "7860             Amanda Harper           Amanda.H66@yahoo.com\n",
       "11125            Laura Sanders      Sanders_Laura@hotmail.com\n",
       "14596              Tommy Ortiz            Tommy_O@hotmail.com\n",
       "14921           Gilbert Miller         Miller.Gilbert@aol.com\n",
       "14922           Timothy Torres         TTorres@protonmail.com\n",
       "24630          Jennifer Weaver             Jennifer_W@aol.com\n",
       "27288           Crystal Horton             Crystal.H@mail.com\n",
       "27477           Brittney Burke       Burke_Brittney16@att.com\n",
       "29906          Cynthia Cabrera    Cabrera.Cynthia@xfinity.com\n",
       "29949              Sarah Floyd              Sarah_F@gmail.com\n",
       "32267           Michelle Villa         Michelle.Villa@aol.com\n",
       "39027           Nichole Hebert       Hebert.Nichole@gmail.com\n",
       "39129         Lindsey Mckenzie       Lindsey.Mckenzie@att.com\n",
       "39525           Ashley Edwards       Edwards.Ashley@yahoo.com\n",
       "70114       Christopher Torres   Torres.Christopher@gmail.com\n",
       "78819   Mrs. Tara Sullivan DVM           Mrs..DVM@xfinity.com\n",
       "78820           Michaela Brown          MichaelaBrown@att.com\n",
       "78822        Kurt Maldonado MD              KMD15@xfinity.com\n",
       "97072         Jason Richardson               Jason.R@zoho.com\n",
       "97099             Terri Hurley            THurley@xfinity.com\n",
       "97261        Mrs. Caitlin Webb             Mrs._W@comcast.net\n",
       "98410             Holly Arroyo          Arroyo_Holly@mail.com\n",
       "98674          Denise Campbell             Denise_C@gmail.com\n",
       "99887            Michael Smith            Michael.S42@aol.com\n",
       "99888       Dr. Trevor Sellers                  Dr._S@aol.com\n",
       "101569            Kayla Murphy         Kayla.Murphy@yahoo.com\n",
       "102061         Taylor Martinez    Taylor.Martinez@hotmail.com\n",
       "109511          Charles Wilson       Charles_Wilson@yahoo.com\n",
       "109590           Tyler Allison         Tyler.A@protonmail.com\n",
       "110082          Matthew Bailey         Matthew_Bailey@aol.com\n",
       "110083       Charlotte Acevedo        Charlotte_A@verizon.com\n",
       "111909         Darrell Brennan  Brennan_Darrell51@hotmail.com\n",
       "111911          Melinda Jensen         MelindaJensen@zoho.com\n",
       "113915            Terry Arnold          Arnold.Terry@zoho.com\n",
       "114770             Mary Nguyen     Nguyen.Mary@protonmail.com\n",
       "114909          Lindsay Cuevas      Lindsay.Cuevas40@mail.com\n",
       "116455       Cynthia Hernandez   CynthiaHernandez@xfinity.com\n",
       "116457          Angela Hawkins             Angela_H@gmail.com\n",
       "118817              Sue Lawson            Sue.L52@comcast.net\n",
       "119161         Alyssa Richards        Alyssa_Richards@aol.com"
      ]
     },
     "execution_count": 15,
     "metadata": {},
     "output_type": "execute_result"
    }
   ],
   "source": [
    "hotels[hotels['total_of_special_requests'] == 5][['name','email']]"
   ]
  },
  {
   "cell_type": "code",
   "execution_count": 16,
   "id": "083b4827",
   "metadata": {},
   "outputs": [
    {
     "data": {
      "text/plain": [
       "3.19"
      ]
     },
     "execution_count": 16,
     "metadata": {},
     "output_type": "execute_result"
    }
   ],
   "source": [
    "round(100 * sum(hotels['is_repeated_guest'] == 1) / len(hotels),2)"
   ]
  },
  {
   "cell_type": "code",
   "execution_count": 17,
   "id": "db424844",
   "metadata": {},
   "outputs": [
    {
     "data": {
      "text/plain": [
       "Smith       2510\n",
       "Johnson     1998\n",
       "Williams    1628\n",
       "Jones       1441\n",
       "Brown       1433\n",
       "Name: name, dtype: int64"
      ]
     },
     "execution_count": 17,
     "metadata": {},
     "output_type": "execute_result"
    }
   ],
   "source": [
    "hotels['name'].apply(lambda name: name.split()[1]).value_counts()[:5]"
   ]
  },
  {
   "cell_type": "code",
   "execution_count": 18,
   "id": "06df3c1f",
   "metadata": {},
   "outputs": [
    {
     "data": {
      "text/html": [
       "<div>\n",
       "<style scoped>\n",
       "    .dataframe tbody tr th:only-of-type {\n",
       "        vertical-align: middle;\n",
       "    }\n",
       "\n",
       "    .dataframe tbody tr th {\n",
       "        vertical-align: top;\n",
       "    }\n",
       "\n",
       "    .dataframe thead th {\n",
       "        text-align: right;\n",
       "    }\n",
       "</style>\n",
       "<table border=\"1\" class=\"dataframe\">\n",
       "  <thead>\n",
       "    <tr style=\"text-align: right;\">\n",
       "      <th></th>\n",
       "      <th>name</th>\n",
       "      <th>adults</th>\n",
       "      <th>total_kids</th>\n",
       "      <th>babies</th>\n",
       "      <th>children</th>\n",
       "    </tr>\n",
       "  </thead>\n",
       "  <tbody>\n",
       "    <tr>\n",
       "      <th>328</th>\n",
       "      <td>Jamie Ramirez</td>\n",
       "      <td>2</td>\n",
       "      <td>10.0</td>\n",
       "      <td>0</td>\n",
       "      <td>10.0</td>\n",
       "    </tr>\n",
       "    <tr>\n",
       "      <th>46619</th>\n",
       "      <td>Nicholas Parker</td>\n",
       "      <td>2</td>\n",
       "      <td>10.0</td>\n",
       "      <td>10</td>\n",
       "      <td>0.0</td>\n",
       "    </tr>\n",
       "    <tr>\n",
       "      <th>78656</th>\n",
       "      <td>Marc Robinson</td>\n",
       "      <td>1</td>\n",
       "      <td>9.0</td>\n",
       "      <td>9</td>\n",
       "      <td>0.0</td>\n",
       "    </tr>\n",
       "  </tbody>\n",
       "</table>\n",
       "</div>"
      ],
      "text/plain": [
       "                  name  adults  total_kids  babies  children\n",
       "328      Jamie Ramirez       2        10.0       0      10.0\n",
       "46619  Nicholas Parker       2        10.0      10       0.0\n",
       "78656    Marc Robinson       1         9.0       9       0.0"
      ]
     },
     "execution_count": 18,
     "metadata": {},
     "output_type": "execute_result"
    }
   ],
   "source": [
    "hotels['total_kids'] = hotels['babies'] + hotels['children']\n",
    "\n",
    "hotels.sort_values('total_kids',ascending=False)[['name','adults','total_kids','babies','children']][:3]"
   ]
  },
  {
   "cell_type": "code",
   "execution_count": 19,
   "id": "a5c577d0",
   "metadata": {},
   "outputs": [
    {
     "name": "stdout",
     "output_type": "stream",
     "text": [
      "Code - Total Count\n"
     ]
    },
    {
     "data": {
      "text/plain": [
       "799    168\n",
       "185    167\n",
       "541    166\n",
       "Name: phone-number, dtype: int64"
      ]
     },
     "execution_count": 19,
     "metadata": {},
     "output_type": "execute_result"
    }
   ],
   "source": [
    "print('Code - Total Count')\n",
    "hotels['phone-number'].apply(lambda num:num[:3]).value_counts()[:3]"
   ]
  },
  {
   "cell_type": "code",
   "execution_count": 20,
   "id": "93769570",
   "metadata": {},
   "outputs": [
    {
     "data": {
      "text/plain": [
       "58152"
      ]
     },
     "execution_count": 20,
     "metadata": {},
     "output_type": "execute_result"
    }
   ],
   "source": [
    "hotels['arrival_date_day_of_month'].apply(lambda day: day in range(1,16)).sum()"
   ]
  },
  {
   "cell_type": "code",
   "execution_count": 21,
   "id": "4c855845",
   "metadata": {},
   "outputs": [],
   "source": [
    "import numpy as np"
   ]
  },
  {
   "cell_type": "code",
   "execution_count": 22,
   "id": "c73126c9",
   "metadata": {},
   "outputs": [],
   "source": [
    "def convert(day,month,year):\n",
    "    return f'{day}-{month}-{year}'"
   ]
  },
  {
   "cell_type": "code",
   "execution_count": 23,
   "id": "fba1020d",
   "metadata": {},
   "outputs": [],
   "source": [
    "hotels['date']  = np.vectorize(convert)(hotels['arrival_date_day_of_month'],\n",
    "                                        hotels['arrival_date_month'],\n",
    "                                        hotels['arrival_date_year'])"
   ]
  },
  {
   "cell_type": "code",
   "execution_count": 24,
   "id": "6a2beb69",
   "metadata": {},
   "outputs": [],
   "source": [
    "hotels['date'] = pd.to_datetime(hotels['date'])"
   ]
  },
  {
   "cell_type": "code",
   "execution_count": 25,
   "id": "8e6b5154",
   "metadata": {},
   "outputs": [
    {
     "data": {
      "text/plain": [
       "Friday       19631\n",
       "Thursday     19254\n",
       "Monday       18171\n",
       "Saturday     18055\n",
       "Wednesday    16139\n",
       "Sunday       14141\n",
       "Tuesday      13999\n",
       "Name: date, dtype: int64"
      ]
     },
     "execution_count": 25,
     "metadata": {},
     "output_type": "execute_result"
    }
   ],
   "source": [
    "hotels['date'].dt.day_name().value_counts()"
   ]
  },
  {
   "cell_type": "code",
   "execution_count": null,
   "id": "1034a4c7",
   "metadata": {},
   "outputs": [],
   "source": []
  }
 ],
 "metadata": {
  "kernelspec": {
   "display_name": "Python 3",
   "language": "python",
   "name": "python3"
  },
  "language_info": {
   "codemirror_mode": {
    "name": "ipython",
    "version": 3
   },
   "file_extension": ".py",
   "mimetype": "text/x-python",
   "name": "python",
   "nbconvert_exporter": "python",
   "pygments_lexer": "ipython3",
   "version": "3.8.8"
  }
 },
 "nbformat": 4,
 "nbformat_minor": 5
}
